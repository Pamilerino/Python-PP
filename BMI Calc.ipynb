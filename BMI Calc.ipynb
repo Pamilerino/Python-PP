{
 "cells": [
  {
   "cell_type": "markdown",
   "id": "ba4ffe78-a090-4d78-82c6-909c7917866f",
   "metadata": {},
   "source": [
    "# BMI Calculator"
   ]
  },
  {
   "cell_type": "code",
   "execution_count": 31,
   "id": "0ef24693-f33d-4b39-908c-9dfe33507661",
   "metadata": {},
   "outputs": [
    {
     "name": "stdin",
     "output_type": "stream",
     "text": [
      "Enter your name: Mikeey\n",
      "Enter your weight in Pounds: 175\n",
      "Enter your height in inchess: 80\n"
     ]
    },
    {
     "name": "stdout",
     "output_type": "stream",
     "text": [
      "19.22265625\n",
      "Mikeey You Are Normal Weight\n"
     ]
    }
   ],
   "source": [
    "name = input(\"Enter your name:\")\n",
    "\n",
    "weight = int(input(\"Enter your weight in Pounds:\"))\n",
    "\n",
    "height = int(input(\"Enter your height in inchess:\"))\n",
    "\n",
    "BMI = (weight * 703) / (height * height)\n",
    "\n",
    "print (BMI)\n",
    "\n",
    "if BMI>0:\n",
    "    if(BMI<18.5):\n",
    "        print(name + \" You Are Under Weight\")\n",
    "    elif(BMI<=24.9):\n",
    "        print(name + \" You Are Normal Weight\")\n",
    "    elif(BMI<29.9):\n",
    "        print(name + \" You Are Over Weight\")\n",
    "    elif(BMI<34.9):\n",
    "        print(name + \" You Are Obese\")\n",
    "    elif(BMI<39.9):\n",
    "        print(name + \" You Are Severly Obese\")\n",
    "    else:\n",
    "        print(name + \" You Are Morbidly Obese\")\n",
    "else:\n",
    "    print(\"Enter valid inputs\")"
   ]
  },
  {
   "cell_type": "code",
   "execution_count": null,
   "id": "fcb65b6b-604b-4ad2-99ec-8ea2b2ddfcf7",
   "metadata": {},
   "outputs": [],
   "source": []
  },
  {
   "cell_type": "code",
   "execution_count": null,
   "id": "a2d00f0c-7dd0-451e-8525-0d5ec941b5d0",
   "metadata": {},
   "outputs": [],
   "source": []
  },
  {
   "cell_type": "code",
   "execution_count": 39,
   "id": "d4139373-fabd-4dca-9514-eeac482b0246",
   "metadata": {},
   "outputs": [
    {
     "name": "stdin",
     "output_type": "stream",
     "text": [
      "Enter your name: Mikee\n",
      "Enter your weight in Kg: 99\n",
      "Enter your height in cm: 150\n"
     ]
    },
    {
     "name": "stdout",
     "output_type": "stream",
     "text": [
      "44.0\n",
      "Mikee You Are Morbidly Obese\n"
     ]
    }
   ],
   "source": [
    "name = input(\"Enter your name:\")\n",
    "\n",
    "weight = int(input(\"Enter your weight in Kg:\"))\n",
    "\n",
    "height = int(input(\"Enter your height in cm:\"))\n",
    "\n",
    "BMI = ((weight ) / (height * height) *10000)\n",
    "\n",
    "print (BMI)\n",
    "\n",
    "if BMI>0:\n",
    "    if(BMI<18.5):\n",
    "        print(name + \" You Are Under Weight\")\n",
    "    elif(BMI<=24.9):\n",
    "        print(name + \" You Are Normal Weight\")\n",
    "    elif(BMI<29.9):\n",
    "        print(name + \" You Are Over Weight\")\n",
    "    elif(BMI<34.9):\n",
    "        print(name + \" You Are Obese\")\n",
    "    elif(BMI<39.9):\n",
    "        print(name + \" You Are Severly Obese\")\n",
    "    else:\n",
    "        print(name + \" You Are Morbidly Obese\")\n",
    "else:\n",
    "    print(\"Enter valid inputs\")"
   ]
  },
  {
   "cell_type": "code",
   "execution_count": null,
   "id": "c4a43a07-fb26-45fc-b947-5085ecb62c5f",
   "metadata": {},
   "outputs": [],
   "source": []
  },
  {
   "cell_type": "code",
   "execution_count": null,
   "id": "d1c1e814-4bc6-47fe-8721-7506e10d113b",
   "metadata": {},
   "outputs": [],
   "source": []
  },
  {
   "cell_type": "code",
   "execution_count": null,
   "id": "3dc38605-1ef6-459b-8dad-f4668a545261",
   "metadata": {},
   "outputs": [],
   "source": []
  },
  {
   "cell_type": "code",
   "execution_count": null,
   "id": "a3862fbf-cc5a-4494-8137-977573b30a76",
   "metadata": {},
   "outputs": [],
   "source": [
    "if BMI>0:\n",
    "    if(BMI<18.5):\n",
    "        print(name + \" Under Weight\")\n",
    "    elif(BMI<=24.9):\n",
    "        print(name + \" Normal Weight\")\n",
    "    elif(BMI<29.9):\n",
    "        print(name + \" Over Weight\")\n",
    "    elif(BMI<34.9):\n",
    "        print(name + \" Obese\")\n",
    "    elif(BMI<39.9):\n",
    "        print(name + \" Severly Obese\")\n",
    "    else:\n",
    "        print(name + \" Morbidly Obese\")"
   ]
  },
  {
   "cell_type": "code",
   "execution_count": null,
   "id": "aa52a46b-1847-42a8-bb2a-933bdd3237ce",
   "metadata": {},
   "outputs": [],
   "source": []
  },
  {
   "cell_type": "code",
   "execution_count": null,
   "id": "232d1690-fbfc-4f20-b301-e2b8decb11ee",
   "metadata": {},
   "outputs": [],
   "source": []
  },
  {
   "cell_type": "code",
   "execution_count": null,
   "id": "6e2eb4b3-172e-4439-9807-7c6e723b16dd",
   "metadata": {},
   "outputs": [],
   "source": [
    "#BMI = (weight in pounds x 703) / (height in inches x height in inches)"
   ]
  },
  {
   "cell_type": "code",
   "execution_count": null,
   "id": "9583adb3-e2ef-4605-a054-c47e91856867",
   "metadata": {},
   "outputs": [],
   "source": []
  },
  {
   "cell_type": "code",
   "execution_count": 4,
   "id": "f0d8035b-7e0d-4d7f-8759-dc9aa5209766",
   "metadata": {},
   "outputs": [
    {
     "name": "stdout",
     "output_type": "stream",
     "text": [
      "175\n"
     ]
    }
   ],
   "source": [
    "print(weight)"
   ]
  },
  {
   "cell_type": "code",
   "execution_count": null,
   "id": "d9753ab0-8594-4efe-adcf-6939ed7ff46f",
   "metadata": {},
   "outputs": [],
   "source": []
  },
  {
   "cell_type": "code",
   "execution_count": null,
   "id": "b86d4093-90e8-4943-963d-02ad17ac4916",
   "metadata": {},
   "outputs": [],
   "source": []
  },
  {
   "cell_type": "code",
   "execution_count": null,
   "id": "2c509011-5fe7-4b45-91ee-302f3f4568b0",
   "metadata": {},
   "outputs": [],
   "source": []
  }
 ],
 "metadata": {
  "kernelspec": {
   "display_name": "Python 3 (ipykernel)",
   "language": "python",
   "name": "python3"
  },
  "language_info": {
   "codemirror_mode": {
    "name": "ipython",
    "version": 3
   },
   "file_extension": ".py",
   "mimetype": "text/x-python",
   "name": "python",
   "nbconvert_exporter": "python",
   "pygments_lexer": "ipython3",
   "version": "3.12.4"
  }
 },
 "nbformat": 4,
 "nbformat_minor": 5
}
