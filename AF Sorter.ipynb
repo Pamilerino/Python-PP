{
 "cells": [
  {
   "cell_type": "code",
   "execution_count": null,
   "id": "497c1ba8-fe0f-4fb5-b3e1-0c7e613418d6",
   "metadata": {},
   "outputs": [],
   "source": []
  },
  {
   "cell_type": "code",
   "execution_count": 2,
   "id": "b14f7473-4b84-4e0b-8811-3768c196c9e3",
   "metadata": {},
   "outputs": [],
   "source": [
    "import os, shutil"
   ]
  },
  {
   "cell_type": "code",
   "execution_count": 4,
   "id": "8edd3b3f-4a09-4976-87f9-ae444938ee05",
   "metadata": {},
   "outputs": [],
   "source": [
    "path = r\"D:/Download from C Drive/\""
   ]
  },
  {
   "cell_type": "code",
   "execution_count": 19,
   "id": "c11cb0e6-15b6-485e-881b-e81fb479ea45",
   "metadata": {},
   "outputs": [
    {
     "data": {
      "text/plain": [
       "['Tableau Datasets',\n",
       " 'TableauAutoUpdate',\n",
       " 'StarBucks',\n",
       " 'Sales.csv',\n",
       " 'reviews.csv',\n",
       " 'New folder',\n",
       " 'Population Inclusive',\n",
       " 'listings.csv',\n",
       " 'HatchfulExport-All',\n",
       " 'ICU_v6.6.5',\n",
       " 'Coursera Digital Marketing',\n",
       " 'Documents',\n",
       " 'archive (3)',\n",
       " 'archive',\n",
       " 'vgsales.csv',\n",
       " 'decadal-deaths-disasters-type.csv',\n",
       " 'natural-disasters.csv',\n",
       " 'number-of-estimated-paralytic-polio-cases-by-world-region.csv',\n",
       " 'Google Business Intelligence Certificate_ Minnesota Traffic Volume Charts_v2023.2.twbx',\n",
       " 'PMB Tableau.twbx',\n",
       " 'QUOTE Derbyl.xls',\n",
       " 'ip-acm-power-budget-calculator_v1.3.xls',\n",
       " 'vs_ultimateweb.exe',\n",
       " 'Shell 3 As Built Drw complete.vsd',\n",
       " 'edraw-max_setup_full5517.exe',\n",
       " 'idman641build7.exe',\n",
       " 'Summary Faults Status Report on EACS, SPDC, 8th February,2019..xls',\n",
       " 'AIN.png',\n",
       " 'ALL IN.png',\n",
       " 'ALL IN 1.png',\n",
       " 'Rack Centre Project Schedule_CCTV AND EAC SYSTEM (1).mpp',\n",
       " 'Rack Centre Project Schedule_CCTV AND EAC SYSTEM.mpp',\n",
       " 'ZoomInstaller.exe',\n",
       " 'imyfone-d-back_setup.exe',\n",
       " 'In house.jpeg',\n",
       " 'Quote for ACS CCTV PESO.xls',\n",
       " 'uniconverter14_setup_full14236.exe',\n",
       " 'JFC Logo PNG.png',\n",
       " 'White Blue Minimalist Worship Conference Church Event Flyer.png',\n",
       " 'Rhinestone.webp',\n",
       " 'AnyDesk (1).exe',\n",
       " 'gcapi.dll',\n",
       " 'Compressed',\n",
       " 'Music',\n",
       " 'Programs',\n",
       " 'Video',\n",
       " 'doc files',\n",
       " 'image files',\n",
       " 'pdf files',\n",
       " 'excel files',\n",
       " 'zip files']"
      ]
     },
     "execution_count": 19,
     "metadata": {},
     "output_type": "execute_result"
    }
   ],
   "source": [
    "os.listdir(path)"
   ]
  },
  {
   "cell_type": "code",
   "execution_count": 11,
   "id": "32c0be18-9688-4cf7-aa81-e9df3d8b440d",
   "metadata": {},
   "outputs": [],
   "source": [
    "file_name = os.listdir(path)"
   ]
  },
  {
   "cell_type": "code",
   "execution_count": 14,
   "id": "0220b896-504f-4c3a-8b62-5b32f44d6c77",
   "metadata": {},
   "outputs": [
    {
     "data": {
      "text/plain": [
       "False"
      ]
     },
     "execution_count": 14,
     "metadata": {},
     "output_type": "execute_result"
    }
   ],
   "source": [
    "os.path.exists(path + 'doc files')"
   ]
  },
  {
   "cell_type": "code",
   "execution_count": 17,
   "id": "3e4e9da9-44dc-430e-bae2-08192d8bf8a4",
   "metadata": {},
   "outputs": [
    {
     "name": "stdout",
     "output_type": "stream",
     "text": [
      "D:/Download from C Drive/doc files\n",
      "D:/Download from C Drive/image files\n",
      "D:/Download from C Drive/pdf files\n",
      "D:/Download from C Drive/excel files\n",
      "D:/Download from C Drive/zip files\n"
     ]
    }
   ],
   "source": [
    "folder_names = ['doc files','image files','pdf files','excel files','zip files']\n",
    "\n",
    "for loop in range(0,5):\n",
    "    if not os.path.exists(path + folder_names[loop]):\n",
    "        print(path + folder_names[loop])\n",
    "        os.makedirs((path + folder_names[loop]))\n",
    "\n",
    "for file in file_name:\n",
    "    if \".doc\" in file and not os.path.exists(path + \"doc files/\" + file):\n",
    "        shutil.move(path + file,path + \"doc files/\" + file)\n",
    "    elif \".pdf\" in file and not os.path.exists(path + \"pdf files/\" + file):\n",
    "        shutil.move(path + file,path + \"pdf files/\" + file)\n",
    "    elif \".xlsx\" in file and not os.path.exists(path + \"excel files/\" + file):\n",
    "        shutil.move(path + file,path + \"excel files/\" + file)\n",
    "    elif \".jpg\" in file and not os.path.exists(path + \"image files/\" + file):\n",
    "        shutil.move(path + file,path + \"image files/\" + file)\n",
    "    elif \".zip\" in file and not os.path.exists(path + \"zip files/\" + file):\n",
    "        shutil.move(path + file,path + \"zip files/\" + file)"
   ]
  },
  {
   "cell_type": "code",
   "execution_count": null,
   "id": "5774c8fb-ab0b-4792-8c05-0de78054f49c",
   "metadata": {},
   "outputs": [],
   "source": []
  },
  {
   "cell_type": "code",
   "execution_count": null,
   "id": "62fc7e3d-2241-409a-a1fa-a502a51acf0c",
   "metadata": {},
   "outputs": [],
   "source": []
  }
 ],
 "metadata": {
  "kernelspec": {
   "display_name": "Python 3 (ipykernel)",
   "language": "python",
   "name": "python3"
  },
  "language_info": {
   "codemirror_mode": {
    "name": "ipython",
    "version": 3
   },
   "file_extension": ".py",
   "mimetype": "text/x-python",
   "name": "python",
   "nbconvert_exporter": "python",
   "pygments_lexer": "ipython3",
   "version": "3.12.4"
  }
 },
 "nbformat": 4,
 "nbformat_minor": 5
}
