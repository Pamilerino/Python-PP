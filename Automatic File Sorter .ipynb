{
 "cells": [
  {
   "cell_type": "markdown",
   "id": "70c2c65c-398c-4b1e-b618-76b4ed7ec5d9",
   "metadata": {},
   "source": [
    "# Automatic File Sorter In File Explorer"
   ]
  },
  {
   "cell_type": "code",
   "execution_count": 66,
   "id": "b9f5f589-6911-4c1f-b348-074e6971ba2f",
   "metadata": {},
   "outputs": [],
   "source": [
    "import os, shutil"
   ]
  },
  {
   "cell_type": "code",
   "execution_count": 68,
   "id": "a0411e60-3385-42d2-a0b3-8e797d56be44",
   "metadata": {},
   "outputs": [],
   "source": [
    "path = r\"D:/Media/WhatsApp Documents/\""
   ]
  },
  {
   "cell_type": "code",
   "execution_count": 79,
   "id": "b6edcd4a-1cb0-4463-baef-4d825d9e8cbc",
   "metadata": {},
   "outputs": [
    {
     "data": {
      "text/plain": [
       "['Private',\n",
       " 'Sent',\n",
       " 'excel files',\n",
       " 'image files',\n",
       " 'pdf files',\n",
       " 'doc files',\n",
       " 'DSC_4377.jpg',\n",
       " 'DSC_4386.jpg',\n",
       " 'DSC_4391.jpg',\n",
       " 'DSC_4392.jpg',\n",
       " 'DSC_4405.jpg',\n",
       " 'DSC_4406a.jpg',\n",
       " 'DSC_4408.jpg',\n",
       " 'DSC_4412a.jpg',\n",
       " 'DSC_4416a.jpg',\n",
       " 'DSC_4421.jpg',\n",
       " 'DSC_4434.jpg',\n",
       " 'DSC_4437.jpg']"
      ]
     },
     "execution_count": 79,
     "metadata": {},
     "output_type": "execute_result"
    }
   ],
   "source": [
    "os.listdir(path)"
   ]
  },
  {
   "cell_type": "code",
   "execution_count": 54,
   "id": "cf6d9b44-6d8d-4c52-9d5c-8c76dcbb7b26",
   "metadata": {},
   "outputs": [],
   "source": [
    "file_name = os.listdir(path)"
   ]
  },
  {
   "cell_type": "code",
   "execution_count": 62,
   "id": "87348d41-f426-4a80-ba50-c56ecc1e489d",
   "metadata": {},
   "outputs": [
    {
     "data": {
      "text/plain": [
       "True"
      ]
     },
     "execution_count": 62,
     "metadata": {},
     "output_type": "execute_result"
    }
   ],
   "source": [
    "os.path.exists(path + 'excel files')"
   ]
  },
  {
   "cell_type": "code",
   "execution_count": 77,
   "id": "21bc6a83-41f1-46d8-be54-244f1e015426",
   "metadata": {},
   "outputs": [],
   "source": [
    "folder_names = ['doc files','image files','pdf files','excel files']\n",
    "\n",
    "for loop in range(0,4):\n",
    "    if not os.path.exists(path + folder_names[loop]):\n",
    "        print(path + folder_names[loop])\n",
    "        os.makedirs((path + folder_names[loop]))\n",
    "\n",
    "for file in file_name:\n",
    "    if \".doc\" in file and not os.path.exists(path + \"doc files/\" + file):\n",
    "        shutil.move(path + file,path + \"doc files/\" + file)\n",
    "    elif \".pdf\" in file and not os.path.exists(path + \"pdf files/\" + file):\n",
    "        shutil.move(path + file,path + \"pdf files/\" + file)\n",
    "    elif \".xlsx\" in file and not os.path.exists(path + \"excel files/\" + file):\n",
    "        shutil.move(path + file,path + \"excel files/\" + file)\n",
    "    elif \".jpg\" in file and not os.path.exists(path + \"image files/\" + file):\n",
    "        shutil.move(path + file,path + \"image files/\" + file)"
   ]
  },
  {
   "cell_type": "code",
   "execution_count": null,
   "id": "41ed2836-6594-4545-95d5-e98e62ac95c8",
   "metadata": {},
   "outputs": [],
   "source": []
  },
  {
   "cell_type": "code",
   "execution_count": null,
   "id": "1593ca51-1444-45f6-9017-3fcf94e79da0",
   "metadata": {},
   "outputs": [],
   "source": []
  },
  {
   "cell_type": "code",
   "execution_count": null,
   "id": "41ba2110-40ae-4ff5-b8b0-4c2f307ae1c8",
   "metadata": {},
   "outputs": [],
   "source": []
  },
  {
   "cell_type": "code",
   "execution_count": null,
   "id": "6834e1fd-9355-41b8-9031-61a7ee0af5a2",
   "metadata": {},
   "outputs": [],
   "source": []
  },
  {
   "cell_type": "code",
   "execution_count": null,
   "id": "d4c7564e-aa9e-4993-a5c7-f87d542109e3",
   "metadata": {},
   "outputs": [],
   "source": []
  },
  {
   "cell_type": "code",
   "execution_count": null,
   "id": "becf384e-d030-4c4f-878d-496ce63351e7",
   "metadata": {},
   "outputs": [],
   "source": []
  }
 ],
 "metadata": {
  "kernelspec": {
   "display_name": "Python 3 (ipykernel)",
   "language": "python",
   "name": "python3"
  },
  "language_info": {
   "codemirror_mode": {
    "name": "ipython",
    "version": 3
   },
   "file_extension": ".py",
   "mimetype": "text/x-python",
   "name": "python",
   "nbconvert_exporter": "python",
   "pygments_lexer": "ipython3",
   "version": "3.12.4"
  }
 },
 "nbformat": 4,
 "nbformat_minor": 5
}
